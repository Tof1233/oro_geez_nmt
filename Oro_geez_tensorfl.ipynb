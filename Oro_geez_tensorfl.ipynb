{
 "cells": [
  {
   "cell_type": "code",
   "execution_count": 106,
   "id": "initial_id",
   "metadata": {
    "collapsed": true,
    "ExecuteTime": {
     "end_time": "2024-01-21T22:12:24.938892100Z",
     "start_time": "2024-01-21T22:12:23.215570Z"
    }
   },
   "outputs": [],
   "source": [
    "import numpy as np\n",
    "\n",
    "import typing\n",
    "from typing import Any, Tuple\n",
    "\n",
    "import einops\n",
    "\n",
    "import tensorflow_text as tf_text\n",
    "import matplotlib.pyplot as plt\n",
    "import matplotlib.ticker as ticker\n",
    "\n",
    "import tensorflow as tf"
   ]
  },
  {
   "cell_type": "code",
   "outputs": [],
   "source": [
    "#@title\n",
    "class ShapeChecker():\n",
    "    def __init__(self):\n",
    "        # Keep a cache of every axis-name seen\n",
    "        self.shapes = {}\n",
    "\n",
    "    def __call__(self, tensor, names, broadcast=False):\n",
    "        if not tf.executing_eagerly():\n",
    "            return\n",
    "\n",
    "        parsed = einops.parse_shape(tensor, names)\n",
    "\n",
    "        for name, new_dim in parsed.items():\n",
    "            old_dim = self.shapes.get(name, None)\n",
    "\n",
    "            if (broadcast and new_dim == 1):\n",
    "                continue\n",
    "\n",
    "            if old_dim is None:\n",
    "                # If the axis name is new, add its length to the cache.\n",
    "                self.shapes[name] = new_dim\n",
    "                continue\n",
    "\n",
    "            if new_dim != old_dim:\n",
    "                raise ValueError(f\"Shape mismatch for dimension: '{name}'\\n\"\n",
    "                                 f\"    found: {new_dim}\\n\"\n",
    "                                 f\"    expected: {old_dim}\\n\")"
   ],
   "metadata": {
    "collapsed": false,
    "ExecuteTime": {
     "end_time": "2024-01-21T22:12:25.082296500Z",
     "start_time": "2024-01-21T22:12:24.951217400Z"
    }
   },
   "id": "66fb97ea9d20e710",
   "execution_count": 107
  },
  {
   "cell_type": "code",
   "outputs": [
    {
     "name": "stdout",
     "output_type": "stream",
     "text": [
      "አነ ቀደስኩ\n",
      "jedheen isa galateeffadhe\n"
     ]
    }
   ],
   "source": [
    "import numpy as np\n",
    "\n",
    "def load_data(path):\n",
    "    with open(path, 'r', encoding='utf-8') as file:\n",
    "        lines = file.read().splitlines()\n",
    "        pairs = [line.split('\\t') for line in lines]\n",
    "\n",
    "    context = np.array([context for target, context in pairs])\n",
    "    target = np.array([target for target, context in pairs])\n",
    "    #geez_sentences = np.array([context for target, context in pairs])\n",
    "    return target, context\n",
    "\n",
    "path_to_file = 'oromic_geez_data_set.txt'\n",
    "target_raw, context_raw = load_data(path_to_file)\n",
    "print(context_raw[10])\n",
    "print(target_raw[10])"
   ],
   "metadata": {
    "collapsed": false,
    "ExecuteTime": {
     "end_time": "2024-01-21T22:12:25.340729400Z",
     "start_time": "2024-01-21T22:12:25.035280900Z"
    }
   },
   "id": "f0b5cddfb7c6c206",
   "execution_count": 108
  },
  {
   "cell_type": "code",
   "outputs": [],
   "source": [
    "from keras.preprocessing.text import Tokenizer\n",
    "def tokenize(sentences):\n",
    "    # Create tokenizer\n",
    "    text_tokenizer = Tokenizer()\n",
    "    # Fit texts\n",
    "    text_tokenizer.fit_on_texts(sentences)\n",
    "    return text_tokenizer.texts_to_sequences(sentences), text_tokenizer"
   ],
   "metadata": {
    "collapsed": false,
    "ExecuteTime": {
     "end_time": "2024-01-21T22:12:25.475948500Z",
     "start_time": "2024-01-21T22:12:25.299551600Z"
    }
   },
   "id": "d4063ab93f900b34",
   "execution_count": 109
  },
  {
   "cell_type": "code",
   "outputs": [],
   "source": [],
   "metadata": {
    "collapsed": false,
    "ExecuteTime": {
     "end_time": "2024-01-21T22:12:25.502028300Z",
     "start_time": "2024-01-21T22:12:25.353390Z"
    }
   },
   "id": "f82b0c772fea18b",
   "execution_count": 109
  },
  {
   "cell_type": "code",
   "outputs": [],
   "source": [
    "BUFFER_SIZE = len(context_raw)\n",
    "BATCH_SIZE = 64\n",
    "\n",
    "is_train = np.random.uniform(size=(len(target_raw),)) < 0.8\n",
    "\n",
    "train_raw = (\n",
    "    tf.data.Dataset\n",
    "    .from_tensor_slices((context_raw[is_train], target_raw[is_train]))\n",
    "    .shuffle(BUFFER_SIZE)\n",
    "    .batch(BATCH_SIZE))\n",
    "val_raw = (\n",
    "    tf.data.Dataset\n",
    "    .from_tensor_slices((context_raw[~is_train], target_raw[~is_train]))\n",
    "    .shuffle(BUFFER_SIZE)\n",
    "    .batch(BATCH_SIZE))"
   ],
   "metadata": {
    "collapsed": false,
    "ExecuteTime": {
     "end_time": "2024-01-21T22:12:25.705160100Z",
     "start_time": "2024-01-21T22:12:25.373093200Z"
    }
   },
   "id": "37a768c260bd87af",
   "execution_count": 110
  },
  {
   "cell_type": "code",
   "outputs": [],
   "source": [
    "geezTokenizer = Tokenizer()\n",
    "geezTokenizer.fit_on_texts(context_raw)\n",
    "context_raw = geezTokenizer.texts_to_sequences(context_raw)"
   ],
   "metadata": {
    "collapsed": false,
    "ExecuteTime": {
     "end_time": "2024-01-21T22:12:27.090959100Z",
     "start_time": "2024-01-21T22:12:25.627827500Z"
    }
   },
   "id": "c3111d2b90e7d8da",
   "execution_count": 111
  },
  {
   "cell_type": "code",
   "outputs": [
    {
     "name": "stdout",
     "output_type": "stream",
     "text": [
      "tf.Tensor(\n",
      "[b'\\xe1\\x8a\\x96\\xe1\\x88\\x8b\\xe1\\x8b\\x8a\\xe1\\x88\\x86\\xe1\\x88\\x99 \\xe1\\x88\\x88\\xe1\\x8a\\xa5\\xe1\\x88\\xb5\\xe1\\x88\\xab\\xe1\\x8a\\xa4\\xe1\\x88\\x8d \\xe1\\x8a\\xa0\\xe1\\x8d\\x85\\xe1\\x88\\x9d\\xe1\\x8a\\xa5 \\xe1\\x8b\\x98\\xe1\\x8b\\xad\\xe1\\x88\\xad\\xe1\\x8b\\x95\\xe1\\x8b\\xae\\xe1\\x88\\x99 \\xe1\\x8a\\xa8\\xe1\\x88\\x98 \\xe1\\x8a\\xa0\\xe1\\x89\\xa3\\xe1\\x8c\\x8d\\xe1\\x8b\\x95 \\xe1\\x88\\x88\\xe1\\x8b\\xae\\xe1\\x88\\xb4\\xe1\\x8d\\x8d \\xe1\\x8b\\x98\\xe1\\x8b\\xad\\xe1\\x8a\\x90\\xe1\\x89\\xa5\\xe1\\x88\\xad \\xe1\\x88\\x8b\\xe1\\x8b\\x95\\xe1\\x88\\x88 \\xe1\\x8a\\xaa\\xe1\\x88\\xa9\\xe1\\x89\\xa4\\xe1\\x88\\x8d \\xe1\\x8a\\xa0\\xe1\\x88\\xb5\\xe1\\x89\\xb0\\xe1\\x88\\xad\\xe1\\x8a\\xa0\\xe1\\x8b\\xa8'\n",
      " b'\\xe1\\x89\\xb5\\xe1\\x8c\\x88\\xe1\\x89\\xa5\\xe1\\x88\\xad \\xe1\\x88\\x98\\xe1\\x8a\\x83\\xe1\\x89\\xb5\\xe1\\x8b\\x8a\\xe1\\x88\\x83 \\xe1\\x88\\xb5\\xe1\\x89\\xa5\\xe1\\x8b\\x93\\xe1\\x89\\xb1 \\xe1\\x8b\\x88\\xe1\\x89\\xb5\\xe1\\x88\\xa5\\xe1\\x88\\xab\\xe1\\x8b\\x95 \\xe1\\x88\\x98\\xe1\\x8a\\x83\\xe1\\x89\\xb5\\xe1\\x8b\\x88 \\xe1\\x8b\\x88\\xe1\\x8b\\xab\\xe1\\x88\\xad\\xe1\\x8a\\xa5\\xe1\\x8b\\xa9 \\xe1\\x8a\\xa5\\xe1\\x88\\x9d\\xe1\\x8a\\xa0\\xe1\\x88\\x90\\xe1\\x8b\\xb1 \\xe1\\x8c\\x88\\xe1\\x8c\\xbd'\n",
      " b'\\xe1\\x8b\\x88\\xe1\\x8a\\xa0\\xe1\\x8b\\x8d\\xe1\\x88\\xa5\\xe1\\x8a\\xa0\\xe1\\x88\\x86\\xe1\\x8a\\x95 \\xe1\\x8c\\xa0\\xe1\\x89\\xa3\\xe1\\x89\\xa3\\xe1\\x89\\xb5 \\xe1\\x8b\\x88\\xe1\\x8b\\xad\\xe1\\x89\\xa4\\xe1\\x88\\x8b\\xe1\\x88\\x86\\xe1\\x8a\\x95 \\xe1\\x8a\\xa0\\xe1\\x88\\x8d\\xe1\\x89\\xa6 \\xe1\\x8b\\x98\\xe1\\x8b\\xab\\xe1\\x8a\\xad\\xe1\\x88\\x8d \\xe1\\x88\\x88\\xe1\\x8a\\x90 \\xe1\\x8b\\x88\\xe1\\x88\\x88\\xe1\\x8a\\xad\\xe1\\x8a\\x95 \\xe1\\x8a\\xa0\\xe1\\x88\\x8b \\xe1\\x88\\x91\\xe1\\x88\\xab \\xe1\\x8a\\x85\\xe1\\x89\\xa4\\xe1\\x88\\x86\\xe1\\x88\\x99 \\xe1\\x88\\x88\\xe1\\x8a\\xa5\\xe1\\x88\\x88 \\xe1\\x8b\\xad\\xe1\\x88\\xa0\\xe1\\x8b\\xad\\xe1\\x8c\\xa1 \\xe1\\x8b\\x88\\xe1\\x89\\xb0\\xe1\\x88\\xa3\\xe1\\x8b\\xa8\\xe1\\x8c\\xa0 \\xe1\\x88\\x88\\xe1\\x8a\\xad\\xe1\\x8a\\x95'\n",
      " b'\\xe1\\x88\\xae\\xe1\\x89\\xa4\\xe1\\x88\\x8d \\xe1\\x89\\xa0\\xe1\\x8a\\xb5\\xe1\\x88\\xa9 \\xe1\\x88\\x88\\xe1\\x8a\\xa5\\xe1\\x88\\xb5\\xe1\\x88\\xab\\xe1\\x8a\\xa4\\xe1\\x88\\x8d \\xe1\\x8b\\x88\\xe1\\x8b\\xb0\\xe1\\x89\\x82\\xe1\\x89\\x80 \\xe1\\x88\\xae\\xe1\\x89\\xa4\\xe1\\x88\\x8d \\xe1\\x88\\x84\\xe1\\x8a\\x96\\xe1\\x8a\\x85 \\xe1\\x8b\\x88\\xe1\\x8a\\x90\\xe1\\x8c\\x88\\xe1\\x8b\\xb0 \\xe1\\x88\\x84\\xe1\\x8a\\x96\\xe1\\x8a\\x85 \\xe1\\x8b\\x98\\xe1\\x8d\\x88\\xe1\\x88\\x89 \\xe1\\x8a\\x90\\xe1\\x8c\\x88\\xe1\\x8b\\xb0 \\xe1\\x8d\\x88\\xe1\\x88\\x89\\xe1\\x8b\\xad'\n",
      " b'\\xe1\\x8a\\xa0\\xe1\\x88\\x90\\xe1\\x8b\\xb1 \\xe1\\x8a\\xa0\\xe1\\x88\\x90\\xe1\\x8b\\xb1 \\xe1\\x8a\\xa5\\xe1\\x88\\x9d\\xe1\\x8a\\x94\\xe1\\x8a\\xad\\xe1\\x88\\x99 \\xe1\\x8b\\xad\\xe1\\x8d\\x8d\\xe1\\x88\\xab\\xe1\\x88\\x85 \\xe1\\x8a\\xa0\\xe1\\x89\\xa3\\xe1\\x88\\x81 \\xe1\\x8b\\x88\\xe1\\x8a\\xa5\\xe1\\x88\\x9e \\xe1\\x8b\\x88\\xe1\\x88\\xb0\\xe1\\x8a\\x95\\xe1\\x89\\xa0\\xe1\\x89\\xb3\\xe1\\x89\\xb5\\xe1\\x8b\\xa8 \\xe1\\x8b\\x95\\xe1\\x89\\x80\\xe1\\x89\\xa1'], shape=(5,), dtype=string)\n",
      "\n",
      "tf.Tensor(\n",
      "[b'Qulqullina ykn rifeensa mataa isaa keessatti dhukkubni adiin ykn diimaan yoo jiraate qulqullummaa ykn rifeensa mataa isaa irraa kan kae dhukkuba nadaayii dha'\n",
      " b'Iddoo aarsaa iddoo aarsaa iddoo aarsaa irrattis Waaqayyo akkas jedha Kunoo mana Daawit keessatti ilmi ni dhalata inni maqaan isaa Yosiyaas jedhamu'\n",
      " b'Aarsaa qajeelummaa aarsaa godhanii Waaqayyoon abdatan'\n",
      " b'Tauu baannaan harka isaa kan nuuf kenne osoo hin taane gara keenya akka dhufe ni beekna'\n",
      " b'Waaqayyo Museedhaan Kunoo ani duumessa ulfaataa taeen gara kee nan dhufa sabni bara baraan akka si dhaggeeffatuu fi sitti amanuuf jedhe'], shape=(5,), dtype=string)\n"
     ]
    }
   ],
   "source": [
    "for example_context_strings, example_target_strings in train_raw.take(11):\n",
    "    print(example_context_strings[:5])\n",
    "    print()\n",
    "    print(example_target_strings[:5])\n",
    "    break\n",
    "    "
   ],
   "metadata": {
    "collapsed": false,
    "ExecuteTime": {
     "end_time": "2024-01-21T22:12:27.201712800Z",
     "start_time": "2024-01-21T22:12:26.970979700Z"
    }
   },
   "id": "b84425dd2b4d1def",
   "execution_count": 112
  },
  {
   "cell_type": "code",
   "outputs": [
    {
     "name": "stdout",
     "output_type": "stream",
     "text": [
      "አነ ቀደስኩ\n",
      "አነ ቀደስኩ\n"
     ]
    }
   ],
   "source": [
    "example_text = tf.constant('አነ ቀደስኩ')\n",
    "\n",
    "print(example_text.numpy().decode('utf-8'))\n",
    "print(tf_text.normalize_utf8(example_text, 'NFKD').numpy().decode('utf-8'))\n"
   ],
   "metadata": {
    "collapsed": false,
    "ExecuteTime": {
     "end_time": "2024-01-21T22:12:27.480936700Z",
     "start_time": "2024-01-21T22:12:27.103053100Z"
    }
   },
   "id": "38abd932c969001a",
   "execution_count": 113
  },
  {
   "cell_type": "code",
   "outputs": [],
   "source": [],
   "metadata": {
    "collapsed": false,
    "ExecuteTime": {
     "end_time": "2024-01-21T22:12:27.487332200Z",
     "start_time": "2024-01-21T22:12:27.209020600Z"
    }
   },
   "id": "45ac8e7e39b106b2",
   "execution_count": 113
  },
  {
   "cell_type": "code",
   "outputs": [
    {
     "name": "stdout",
     "output_type": "stream",
     "text": [
      "አነ ቀደስኩ\n",
      "[START]  [END]\n"
     ]
    }
   ],
   "source": [
    "import tensorflow as tf\n",
    "import tensorflow_text as tf_text\n",
    "\n",
    "example_text_ = tf.constant('feya dha')\n",
    "example_text = tf.constant('አነ ቀደስኩ')\n",
    "# Unicode normalization will be the first step in the text standardization function:\n",
    "def tf_lower_and_split_punct(text):\n",
    "    # Split accented characters.\n",
    "    text = tf_text.normalize_utf8(text, 'NFKD')\n",
    "    text = tf.strings.lower(text)\n",
    "    # Keep space, a to z, and select punctuation.\n",
    "    text = tf.strings.regex_replace(text, '[^ a-z.?!]', '')\n",
    "    # Add spaces around punctuation.\n",
    "    text = tf.strings.regex_replace(text, '[.?!,]', ' \\\\0 ')\n",
    "    # Strip whitespace.\n",
    "    text = tf.strings.strip(text)\n",
    "    # Add the encoding and errors argument to the decode method\n",
    "\n",
    "    text = tf.strings.join(['[START]', text, '[END]'], separator=' ')\n",
    "    return text\n",
    "\n",
    "#print(example_text.numpy().decode())\n",
    "#print(tf_lower_and_split_punct(example_text))\n",
    "#print(tf_lower_and_split_punct(example_text_).numpy().decode())\n",
    "print(example_text.numpy().decode())\n",
    "print(tf_lower_and_split_punct(example_text).numpy().decode('utf-8'))\n"
   ],
   "metadata": {
    "collapsed": false,
    "ExecuteTime": {
     "end_time": "2024-01-21T22:12:27.607701600Z",
     "start_time": "2024-01-21T22:12:27.238689200Z"
    }
   },
   "id": "c6ef6761ed5434a3",
   "execution_count": 114
  },
  {
   "cell_type": "code",
   "outputs": [
    {
     "data": {
      "text/plain": "['', '[UNK]', '[START]', '[END]']"
     },
     "execution_count": 115,
     "metadata": {},
     "output_type": "execute_result"
    }
   ],
   "source": [
    "# Text Vectorization\n",
    "max_vocab_size = 5000\n",
    "\n",
    "context_text_processor = tf.keras.layers.TextVectorization(\n",
    "    standardize=tf_lower_and_split_punct,\n",
    "    max_tokens=max_vocab_size,\n",
    "    ragged=True)\n",
    "context_text_processor.adapt(train_raw.map(lambda context, target: context))\n",
    "\n",
    "# Here are the first 10 words from the vocabulary:\n",
    "context_text_processor.get_vocabulary()[:10]\n",
    "# Here are the first 10 words from the vocabulary:\n",
    "# Here are the first 10 words from the vocabulary:\n",
    "#vocabulary = context_text_processor.get_vocabulary()\n",
    "#first_10_words = vocabulary[:10].numpy()"
   ],
   "metadata": {
    "collapsed": false,
    "ExecuteTime": {
     "end_time": "2024-01-21T22:12:28.364048700Z",
     "start_time": "2024-01-21T22:12:27.356042500Z"
    }
   },
   "id": "9d431b0de07221d6",
   "execution_count": 115
  },
  {
   "cell_type": "code",
   "outputs": [
    {
     "data": {
      "text/plain": "['', '[UNK]', '[START]', '[END]', 'fi', 'hin', 'isaa', 'kee', 'akka', 'ni']"
     },
     "execution_count": 116,
     "metadata": {},
     "output_type": "execute_result"
    }
   ],
   "source": [
    "target_text_processor = tf.keras.layers.TextVectorization(\n",
    "    standardize=tf_lower_and_split_punct,\n",
    "    max_tokens=max_vocab_size,\n",
    "    ragged=True)\n",
    "\n",
    "target_text_processor.adapt(train_raw.map(lambda context, target: target))\n",
    "target_text_processor.get_vocabulary()[:10]\n"
   ],
   "metadata": {
    "collapsed": false,
    "ExecuteTime": {
     "end_time": "2024-01-21T22:12:29.248429800Z",
     "start_time": "2024-01-21T22:12:28.334188500Z"
    }
   },
   "id": "8c448a13a2be927b",
   "execution_count": 116
  },
  {
   "cell_type": "code",
   "outputs": [
    {
     "data": {
      "text/plain": "<tf.RaggedTensor [[2, 3],\n [2, 3],\n [2, 3],\n [2, 3],\n [2, 3]]>"
     },
     "execution_count": 117,
     "metadata": {},
     "output_type": "execute_result"
    }
   ],
   "source": [
    "example_tokens = context_text_processor(example_context_strings)\n",
    "example_tokens[:5, :]\n"
   ],
   "metadata": {
    "collapsed": false,
    "ExecuteTime": {
     "end_time": "2024-01-21T22:12:29.505238600Z",
     "start_time": "2024-01-21T22:12:29.240201200Z"
    }
   },
   "id": "a06c17a6edbbaa05",
   "execution_count": 117
  },
  {
   "cell_type": "code",
   "outputs": [
    {
     "data": {
      "text/plain": "'[START] [END]'"
     },
     "execution_count": 118,
     "metadata": {},
     "output_type": "execute_result"
    }
   ],
   "source": [
    "context_vocab = np.array(context_text_processor.get_vocabulary())\n",
    "tokens = context_vocab[example_tokens[0].numpy()]\n",
    "' '.join(tokens)\n"
   ],
   "metadata": {
    "collapsed": false,
    "ExecuteTime": {
     "end_time": "2024-01-21T22:12:29.667245400Z",
     "start_time": "2024-01-21T22:12:29.308339300Z"
    }
   },
   "id": "172eb78cfa2d1c18",
   "execution_count": 118
  },
  {
   "cell_type": "code",
   "outputs": [
    {
     "data": {
      "text/plain": "Text(0.5, 1.0, 'Mask')"
     },
     "execution_count": 119,
     "metadata": {},
     "output_type": "execute_result"
    },
    {
     "data": {
      "text/plain": "<Figure size 640x480 with 2 Axes>",
      "image/png": "[encoded data removed]"
     },
     "metadata": {},
     "output_type": "display_data"
    }
   ],
   "source": [
    "plt.subplot(1, 2, 1)\n",
    "plt.pcolormesh(example_tokens.to_tensor())\n",
    "plt.title('Token IDs')\n",
    "\n",
    "plt.subplot(1, 2, 2)\n",
    "plt.pcolormesh(example_tokens.to_tensor() != 0)\n",
    "plt.title('Mask')\n"
   ],
   "metadata": {
    "collapsed": false,
    "ExecuteTime": {
     "end_time": "2024-01-21T22:12:31.763174200Z",
     "start_time": "2024-01-21T22:12:29.568453300Z"
    }
   },
   "id": "50d96f2217f164a6",
   "execution_count": 119
  },
  {
   "cell_type": "code",
   "outputs": [],
   "source": [
    "def process_text(context, target):\n",
    "    context = context_text_processor(context).to_tensor()\n",
    "    target = target_text_processor(target)\n",
    "    targ_in = target[:,:-1].to_tensor()\n",
    "    targ_out = target[:,1:].to_tensor()\n",
    "    return (context, targ_in), targ_out\n",
    "\n",
    "\n",
    "train_ds = train_raw.map(process_text, tf.data.AUTOTUNE)\n",
    "val_ds = val_raw.map(process_text, tf.data.AUTOTUNE)\n"
   ],
   "metadata": {
    "collapsed": false,
    "ExecuteTime": {
     "end_time": "2024-01-21T22:12:32.548319200Z",
     "start_time": "2024-01-21T22:12:31.494713500Z"
    }
   },
   "id": "67ce80ca69466fc3",
   "execution_count": 120
  },
  {
   "cell_type": "code",
   "outputs": [
    {
     "name": "stdout",
     "output_type": "stream",
     "text": [
      "[2 3]\n",
      "\n",
      "[   2 1178 3969    9 3476  349    0    0    0    0]\n",
      "[1178 3969    9 3476  349    3    0    0    0    0]\n"
     ]
    }
   ],
   "source": [
    "for (ex_context_tok, ex_tar_in), ex_tar_out in train_ds.take(1):\n",
    "    print(ex_context_tok[0, :10].numpy())\n",
    "    print()\n",
    "    print(ex_tar_in[0, :10].numpy())\n",
    "    print(ex_tar_out[0, :10].numpy())\n"
   ],
   "metadata": {
    "collapsed": false,
    "ExecuteTime": {
     "end_time": "2024-01-21T22:12:32.806481200Z",
     "start_time": "2024-01-21T22:12:32.541366700Z"
    }
   },
   "id": "8391ec70926b7bd6",
   "execution_count": 121
  },
  {
   "cell_type": "code",
   "outputs": [],
   "source": [
    "UNITS = 256"
   ],
   "metadata": {
    "collapsed": false,
    "ExecuteTime": {
     "end_time": "2024-01-21T22:12:32.928610500Z",
     "start_time": "2024-01-21T22:12:32.804842400Z"
    }
   },
   "id": "49632439390cb8a5",
   "execution_count": 122
  },
  {
   "cell_type": "code",
   "outputs": [],
   "source": [
    "class Encoder(tf.keras.layers.Layer):\n",
    "    def __init__(self, text_processor, units):\n",
    "        super(Encoder, self).__init__()\n",
    "        self.text_processor = text_processor\n",
    "        self.vocab_size = text_processor.vocabulary_size()\n",
    "        self.units = units\n",
    "\n",
    "        # The embedding layer converts tokens to vectors\n",
    "        self.embedding = tf.keras.layers.Embedding(self.vocab_size, units,\n",
    "                                                   mask_zero=True)\n",
    "\n",
    "        # The RNN layer processes those vectors sequentially.\n",
    "        self.rnn = tf.keras.layers.Bidirectional(\n",
    "            merge_mode='sum',\n",
    "            layer=tf.keras.layers.GRU(units,\n",
    "                                      # Return the sequence and state\n",
    "                                      return_sequences=True,\n",
    "                                      recurrent_initializer='glorot_uniform'))\n",
    "\n",
    "    def call(self, x):\n",
    "        shape_checker = ShapeChecker()\n",
    "        shape_checker(x, 'batch s')\n",
    "\n",
    "        # 2. The embedding layer looks up the embedding vector for each token.\n",
    "        x = self.embedding(x)\n",
    "        shape_checker(x, 'batch s units')\n",
    "\n",
    "        # 3. The GRU processes the sequence of embeddings.\n",
    "        x = self.rnn(x)\n",
    "        shape_checker(x, 'batch s units')\n",
    "\n",
    "        # 4. Returns the new sequence of embeddings.\n",
    "        return x\n",
    "\n",
    "    def convert_input(self, texts):\n",
    "        texts = tf.convert_to_tensor(texts)\n",
    "        if len(texts.shape) == 0:\n",
    "            texts = tf.convert_to_tensor(texts)[tf.newaxis]\n",
    "        context = self.text_processor(texts).to_tensor()\n",
    "        context = self(context)\n",
    "        return context\n"
   ],
   "metadata": {
    "collapsed": false,
    "ExecuteTime": {
     "end_time": "2024-01-21T22:12:33.026061100Z",
     "start_time": "2024-01-21T22:12:32.835837900Z"
    }
   },
   "id": "b1001681a5c5befa",
   "execution_count": 123
  },
  {
   "cell_type": "markdown",
   "source": [
    "try it out"
   ],
   "metadata": {
    "collapsed": false
   },
   "id": "a89d7d7b547d8d3f"
  },
  {
   "cell_type": "code",
   "outputs": [
    {
     "name": "stdout",
     "output_type": "stream",
     "text": [
      "Context tokens, shape (batch, s): (64, 2)\n",
      "Encoder output, shape (batch, s, units): (64, 2, 256)\n"
     ]
    }
   ],
   "source": [
    "# Encode the input sequence.\n",
    "encoder = Encoder(context_text_processor, UNITS)\n",
    "ex_context = encoder(ex_context_tok)\n",
    "\n",
    "print(f'Context tokens, shape (batch, s): {ex_context_tok.shape}')\n",
    "print(f'Encoder output, shape (batch, s, units): {ex_context.shape}')\n"
   ],
   "metadata": {
    "collapsed": false,
    "ExecuteTime": {
     "end_time": "2024-01-21T22:12:33.233494300Z",
     "start_time": "2024-01-21T22:12:32.924244400Z"
    }
   },
   "id": "595bf15832cb184",
   "execution_count": 124
  },
  {
   "cell_type": "markdown",
   "source": [
    "The attention layer"
   ],
   "metadata": {
    "collapsed": false
   },
   "id": "b53c2de668f62df2"
  },
  {
   "cell_type": "code",
   "outputs": [],
   "source": [
    "class CrossAttention(tf.keras.layers.Layer):\n",
    "    def __init__(self, units, **kwargs):\n",
    "        super().__init__()\n",
    "        self.mha = tf.keras.layers.MultiHeadAttention(key_dim=units, num_heads=1, **kwargs)\n",
    "        self.layernorm = tf.keras.layers.LayerNormalization()\n",
    "        self.add = tf.keras.layers.Add()\n",
    "\n",
    "    def call(self, x, context):\n",
    "        shape_checker = ShapeChecker()\n",
    "\n",
    "        shape_checker(x, 'batch t units')\n",
    "        shape_checker(context, 'batch s units')\n",
    "\n",
    "        attn_output, attn_scores = self.mha(\n",
    "            query=x,\n",
    "            value=context,\n",
    "            return_attention_scores=True)\n",
    "\n",
    "        shape_checker(x, 'batch t units')\n",
    "        shape_checker(attn_scores, 'batch heads t s')\n",
    "\n",
    "        # Cache the attention scores for plotting later.\n",
    "        attn_scores = tf.reduce_mean(attn_scores, axis=1)\n",
    "        shape_checker(attn_scores, 'batch t s')\n",
    "        self.last_attention_weights = attn_scores\n",
    "\n",
    "        x = self.add([x, attn_output])\n",
    "        x = self.layernorm(x)\n",
    "\n",
    "        return x\n"
   ],
   "metadata": {
    "collapsed": false,
    "ExecuteTime": {
     "end_time": "2024-01-21T22:12:33.416907800Z",
     "start_time": "2024-01-21T22:12:33.222364400Z"
    }
   },
   "id": "98640e7dfeba2041",
   "execution_count": 125
  },
  {
   "cell_type": "markdown",
   "source": [],
   "metadata": {
    "collapsed": false
   },
   "id": "1113403ce9ee98da"
  },
  {
   "cell_type": "code",
   "outputs": [
    {
     "name": "stdout",
     "output_type": "stream",
     "text": [
      "Context sequence, shape (batch, s, units): (64, 2, 256)\n",
      "Target sequence, shape (batch, t, units): (64, 30, 256)\n",
      "Attention result, shape (batch, t, units): (64, 30, 256)\n",
      "Attention weights, shape (batch, t, s):    (64, 30, 2)\n"
     ]
    }
   ],
   "source": [
    "attention_layer = CrossAttention(UNITS)\n",
    "\n",
    "# Attend to the encoded tokens\n",
    "embed = tf.keras.layers.Embedding(target_text_processor.vocabulary_size(),\n",
    "                                  output_dim=UNITS, mask_zero=True)\n",
    "ex_tar_embed = embed(ex_tar_in)\n",
    "\n",
    "result = attention_layer(ex_tar_embed, ex_context)\n",
    "\n",
    "print(f'Context sequence, shape (batch, s, units): {ex_context.shape}')\n",
    "print(f'Target sequence, shape (batch, t, units): {ex_tar_embed.shape}')\n",
    "print(f'Attention result, shape (batch, t, units): {result.shape}')\n",
    "print(f'Attention weights, shape (batch, t, s):    {attention_layer.last_attention_weights.shape}')\n"
   ],
   "metadata": {
    "collapsed": false,
    "ExecuteTime": {
     "end_time": "2024-01-21T22:12:33.680641700Z",
     "start_time": "2024-01-21T22:12:33.263300Z"
    }
   },
   "id": "ac72532b2f13d554",
   "execution_count": 126
  },
  {
   "cell_type": "code",
   "outputs": [
    {
     "data": {
      "text/plain": "array([1., 1., 1., 1., 1., 1., 1., 1., 1., 1., 1., 1., 1., 1., 1., 1., 1.,\n       1., 1., 1., 1., 1., 1., 1., 1., 1., 1., 1., 1., 1.], dtype=float32)"
     },
     "execution_count": 127,
     "metadata": {},
     "output_type": "execute_result"
    }
   ],
   "source": [
    "attention_layer.last_attention_weights[0].numpy().sum(axis=-1)\n"
   ],
   "metadata": {
    "collapsed": false,
    "ExecuteTime": {
     "end_time": "2024-01-21T22:12:33.722673Z",
     "start_time": "2024-01-21T22:12:33.626072Z"
    }
   },
   "id": "203a5fa0a3d1909e",
   "execution_count": 127
  },
  {
   "cell_type": "code",
   "outputs": [
    {
     "data": {
      "text/plain": "<Figure size 640x480 with 2 Axes>",
      "image/png": "[encoded data removed]"
     },
     "metadata": {},
     "output_type": "display_data"
    }
   ],
   "source": [
    "attention_weights = attention_layer.last_attention_weights\n",
    "mask=(ex_context_tok != 0).numpy()\n",
    "\n",
    "plt.subplot(1, 2, 1)\n",
    "plt.pcolormesh(mask*attention_weights[:, 0, :])\n",
    "plt.title('Attention weights')\n",
    "\n",
    "plt.subplot(1, 2, 2)\n",
    "plt.pcolormesh(mask)\n",
    "plt.title('Mask');\n"
   ],
   "metadata": {
    "collapsed": false,
    "ExecuteTime": {
     "end_time": "2024-01-21T22:12:35.393470600Z",
     "start_time": "2024-01-21T22:12:33.657101100Z"
    }
   },
   "id": "7584ee587e30f660",
   "execution_count": 128
  },
  {
   "cell_type": "markdown",
   "source": [
    "A unidirectional RNN"
   ],
   "metadata": {
    "collapsed": false
   },
   "id": "5232b49b7fde67b4"
  },
  {
   "cell_type": "code",
   "outputs": [],
   "source": [
    "class Decoder(tf.keras.layers.Layer):\n",
    "    @classmethod\n",
    "    def add_method(cls, fun):\n",
    "        setattr(cls, fun.__name__, fun)\n",
    "        return fun\n",
    "\n",
    "    def __init__(self, text_processor, units):\n",
    "        super(Decoder, self).__init__()\n",
    "        self.text_processor = text_processor\n",
    "        self.vocab_size = text_processor.vocabulary_size()\n",
    "        self.word_to_id = tf.keras.layers.StringLookup(\n",
    "            vocabulary=text_processor.get_vocabulary(),\n",
    "            mask_token='', oov_token='[UNK]')\n",
    "        self.id_to_word = tf.keras.layers.StringLookup(\n",
    "            vocabulary=text_processor.get_vocabulary(),\n",
    "            mask_token='', oov_token='[UNK]',\n",
    "            invert=True)\n",
    "        self.start_token = self.word_to_id('[START]')\n",
    "        self.end_token = self.word_to_id('[END]')\n",
    "\n",
    "        self.units = units\n",
    "\n",
    "\n",
    "        # 1. The embedding layer converts token IDs to vectors\n",
    "        self.embedding = tf.keras.layers.Embedding(self.vocab_size,\n",
    "                                                   units, mask_zero=True)\n",
    "\n",
    "        # 2. The RNN keeps track of what's been generated so far.\n",
    "        self.rnn = tf.keras.layers.GRU(units,\n",
    "                                       return_sequences=True,\n",
    "                                       return_state=True,\n",
    "                                       recurrent_initializer='glorot_uniform')\n",
    "\n",
    "        # 3. The RNN output will be the query for the attention layer.\n",
    "        self.attention = CrossAttention(units)\n",
    "\n",
    "        # 4. This fully connected layer produces the logits for each\n",
    "        # output token.\n",
    "        self.output_layer = tf.keras.layers.Dense(self.vocab_size)\n"
   ],
   "metadata": {
    "collapsed": false,
    "ExecuteTime": {
     "end_time": "2024-01-21T22:12:35.722157300Z",
     "start_time": "2024-01-21T22:12:35.412467Z"
    }
   },
   "id": "f0c24b4cfea4379b",
   "execution_count": 129
  },
  {
   "cell_type": "markdown",
   "source": [
    "training"
   ],
   "metadata": {
    "collapsed": false
   },
   "id": "133ced84c06f6b"
  },
  {
   "cell_type": "code",
   "outputs": [],
   "source": [
    "@Decoder.add_method\n",
    "def call(self,\n",
    "         context, x,\n",
    "         state=None,\n",
    "         return_state=False):\n",
    "    shape_checker = ShapeChecker()\n",
    "    shape_checker(x, 'batch t')\n",
    "    shape_checker(context, 'batch s units')\n",
    "\n",
    "    # 1. Lookup the embeddings\n",
    "    x = self.embedding(x)\n",
    "    shape_checker(x, 'batch t units')\n",
    "\n",
    "    # 2. Process the target sequence.\n",
    "    x, state = self.rnn(x, initial_state=state)\n",
    "    shape_checker(x, 'batch t units')\n",
    "\n",
    "    # 3. Use the RNN output as the query for the attention over the context.\n",
    "    x = self.attention(x, context)\n",
    "    self.last_attention_weights = self.attention.last_attention_weights\n",
    "    shape_checker(x, 'batch t units')\n",
    "    shape_checker(self.last_attention_weights, 'batch t s')\n",
    "\n",
    "    # Step 4. Generate logit predictions for the next token.\n",
    "    logits = self.output_layer(x)\n",
    "    shape_checker(logits, 'batch t target_vocab_size')\n",
    "\n",
    "    if return_state:\n",
    "        return logits, state\n",
    "    else:\n",
    "        return logits\n"
   ],
   "metadata": {
    "collapsed": false,
    "ExecuteTime": {
     "end_time": "2024-01-21T22:12:35.846917800Z",
     "start_time": "2024-01-21T22:12:35.446010500Z"
    }
   },
   "id": "30a7e3e09b290011",
   "execution_count": 130
  },
  {
   "cell_type": "markdown",
   "source": [
    "That will be sufficient for training. Create an instance of the decoder to test out:"
   ],
   "metadata": {
    "collapsed": false
   },
   "id": "e1e861786f68d2b6"
  },
  {
   "cell_type": "code",
   "outputs": [],
   "source": [
    "decoder = Decoder(target_text_processor, UNITS)"
   ],
   "metadata": {
    "collapsed": false,
    "ExecuteTime": {
     "end_time": "2024-01-21T22:12:36.203931Z",
     "start_time": "2024-01-21T22:12:35.661027500Z"
    }
   },
   "id": "4baccea8bc3e1647",
   "execution_count": 131
  },
  {
   "cell_type": "code",
   "outputs": [
    {
     "name": "stdout",
     "output_type": "stream",
     "text": [
      "encoder output shape: (batch, s, units) (64, 2, 256)\n",
      "input target tokens shape: (batch, t) (64, 30)\n",
      "logits shape shape: (batch, target_vocabulary_size) (64, 30, 5000)\n"
     ]
    }
   ],
   "source": [
    "logits = decoder(ex_context, ex_tar_in)\n",
    "\n",
    "print(f'encoder output shape: (batch, s, units) {ex_context.shape}')\n",
    "print(f'input target tokens shape: (batch, t) {ex_tar_in.shape}')\n",
    "print(f'logits shape shape: (batch, target_vocabulary_size) {logits.shape}')\n"
   ],
   "metadata": {
    "collapsed": false,
    "ExecuteTime": {
     "end_time": "2024-01-21T22:12:37.063467600Z",
     "start_time": "2024-01-21T22:12:36.151062700Z"
    }
   },
   "id": "71f32c63a3788477",
   "execution_count": 132
  },
  {
   "cell_type": "code",
   "outputs": [],
   "source": [
    "@Decoder.add_method\n",
    "def get_initial_state(self, context):\n",
    "    batch_size = tf.shape(context)[0]\n",
    "    start_tokens = tf.fill([batch_size, 1], self.start_token)\n",
    "    done = tf.zeros([batch_size, 1], dtype=tf.bool)\n",
    "    embedded = self.embedding(start_tokens)\n",
    "    return start_tokens, done, self.rnn.get_initial_state(embedded)[0]\n"
   ],
   "metadata": {
    "collapsed": false,
    "ExecuteTime": {
     "end_time": "2024-01-21T22:12:37.140849500Z",
     "start_time": "2024-01-21T22:12:37.028768400Z"
    }
   },
   "id": "e2fa64c63e6a8c72",
   "execution_count": 133
  },
  {
   "cell_type": "code",
   "outputs": [],
   "source": [
    "@Decoder.add_method\n",
    "def tokens_to_text(self, tokens):\n",
    "    words = self.id_to_word(tokens)\n",
    "    result = tf.strings.reduce_join(words, axis=-1, separator=' ')\n",
    "    result = tf.strings.regex_replace(result, '^ *\\[START\\] *', '')\n",
    "    result = tf.strings.regex_replace(result, ' *\\[END\\] *$', '')\n",
    "    return result\n"
   ],
   "metadata": {
    "collapsed": false,
    "ExecuteTime": {
     "end_time": "2024-01-21T22:12:37.283445300Z",
     "start_time": "2024-01-21T22:12:37.058150Z"
    }
   },
   "id": "a95f937f5655a470",
   "execution_count": 134
  },
  {
   "cell_type": "code",
   "outputs": [],
   "source": [
    "@Decoder.add_method\n",
    "def get_next_token(self, context, next_token, done, state, temperature = 0.0):\n",
    "    logits, state = self(\n",
    "        context, next_token,\n",
    "        state = state,\n",
    "        return_state=True)\n",
    "\n",
    "    if temperature == 0.0:\n",
    "        next_token = tf.argmax(logits, axis=-1)\n",
    "    else:\n",
    "        logits = logits[:, -1, :]/temperature\n",
    "        next_token = tf.random.categorical(logits, num_samples=1)\n",
    "\n",
    "    # If a sequence produces an `end_token`, set it `done`\n",
    "    done = done | (next_token == self.end_token)\n",
    "    # Once a sequence is done it only produces 0-padding.\n",
    "    next_token = tf.where(done, tf.constant(0, dtype=tf.int64), next_token)\n",
    "\n",
    "    return next_token, done, state\n"
   ],
   "metadata": {
    "collapsed": false,
    "ExecuteTime": {
     "end_time": "2024-01-21T22:12:37.424614900Z",
     "start_time": "2024-01-21T22:12:37.165739700Z"
    }
   },
   "id": "8d22bffebbb0a916",
   "execution_count": 135
  },
  {
   "cell_type": "code",
   "outputs": [
    {
     "data": {
      "text/plain": "array([b'himate haadha bulcha funyoodhaan addaan gantummaadhaan elkaanaa jaalladha zabulon heenos',\n       b'furuun ayyaanota awwaala waxii fidan haannaan mootichaas kaain kaasi galateeffadha',\n       b'lubicha kutaa dhugu kamiinuu hoggantoota garboonni soomanaa saddeettama dhiirotaa dhundhuma'],\n      dtype=object)"
     },
     "execution_count": 136,
     "metadata": {},
     "output_type": "execute_result"
    }
   ],
   "source": [
    "# Setup the loop variables.\n",
    "next_token, done, state = decoder.get_initial_state(ex_context)\n",
    "tokens = []\n",
    "\n",
    "for n in range(10):\n",
    "    # Run one step.\n",
    "    next_token, done, state = decoder.get_next_token(\n",
    "        ex_context, next_token, done, state, temperature=1.0)\n",
    "    # Add the token to the output.\n",
    "    tokens.append(next_token)\n",
    "\n",
    "# Stack all the tokens together.\n",
    "tokens = tf.concat(tokens, axis=-1) # (batch, t)\n",
    "\n",
    "# Convert the tokens back to a a string\n",
    "result = decoder.tokens_to_text(tokens)\n",
    "result[:3].numpy()\n"
   ],
   "metadata": {
    "collapsed": false,
    "ExecuteTime": {
     "end_time": "2024-01-21T22:12:38.694479Z",
     "start_time": "2024-01-21T22:12:37.279230900Z"
    }
   },
   "id": "317bb77de6d66f8d",
   "execution_count": 136
  },
  {
   "cell_type": "code",
   "outputs": [],
   "source": [
    "class Translator(tf.keras.Model):\n",
    "    @classmethod\n",
    "    def add_method(cls, fun):\n",
    "        setattr(cls, fun.__name__, fun)\n",
    "        return fun\n",
    "\n",
    "    def __init__(self, units,\n",
    "                 context_text_processor,\n",
    "                 target_text_processor):\n",
    "        super().__init__()\n",
    "        # Build the encoder and decoder\n",
    "        encoder = Encoder(context_text_processor, units)\n",
    "        decoder = Decoder(target_text_processor, units)\n",
    "\n",
    "        self.encoder = encoder\n",
    "        self.decoder = decoder\n",
    "\n",
    "    def call(self, inputs):\n",
    "        context, x = inputs\n",
    "        context = self.encoder(context)\n",
    "        logits = self.decoder(context, x)\n",
    "\n",
    "        #TODO(b/250038731): remove this\n",
    "        try:\n",
    "            # Delete the keras mask, so keras doesn't scale the loss+accuracy. \n",
    "            del logits._keras_mask\n",
    "        except AttributeError:\n",
    "            pass\n",
    "\n",
    "        return logits\n"
   ],
   "metadata": {
    "collapsed": false,
    "ExecuteTime": {
     "end_time": "2024-01-21T22:12:38.802117300Z",
     "start_time": "2024-01-21T22:12:38.654208800Z"
    }
   },
   "id": "b7e42708f3113748",
   "execution_count": 137
  },
  {
   "cell_type": "code",
   "outputs": [
    {
     "name": "stdout",
     "output_type": "stream",
     "text": [
      "Context tokens, shape: (batch, s, units) (64, 2)\n",
      "Target tokens, shape: (batch, t) (64, 30)\n",
      "logits, shape: (batch, t, target_vocabulary_size) (64, 30, 5000)\n"
     ]
    }
   ],
   "source": [
    "model = Translator(UNITS, context_text_processor, target_text_processor)\n",
    "\n",
    "logits = model((ex_context_tok, ex_tar_in))\n",
    "\n",
    "print(f'Context tokens, shape: (batch, s, units) {ex_context_tok.shape}')\n",
    "print(f'Target tokens, shape: (batch, t) {ex_tar_in.shape}')\n",
    "print(f'logits, shape: (batch, t, target_vocabulary_size) {logits.shape}')\n"
   ],
   "metadata": {
    "collapsed": false,
    "ExecuteTime": {
     "end_time": "2024-01-21T22:12:40.082157300Z",
     "start_time": "2024-01-21T22:12:38.677779600Z"
    }
   },
   "id": "25faac59255a110e",
   "execution_count": 138
  },
  {
   "cell_type": "code",
   "outputs": [],
   "source": [
    "def masked_loss(y_true, y_pred):\n",
    "    # Calculate the loss for each item in the batch.\n",
    "    loss_fn = tf.keras.losses.SparseCategoricalCrossentropy(\n",
    "        from_logits=True, reduction='none')\n",
    "    loss = loss_fn(y_true, y_pred)\n",
    "\n",
    "    # Mask off the losses on padding.\n",
    "    mask = tf.cast(y_true != 0, loss.dtype)\n",
    "    loss *= mask\n",
    "\n",
    "    # Return the total.\n",
    "    return tf.reduce_sum(loss)/tf.reduce_sum(mask)\n"
   ],
   "metadata": {
    "collapsed": false,
    "ExecuteTime": {
     "end_time": "2024-01-21T22:12:40.217281900Z",
     "start_time": "2024-01-21T22:12:40.083077300Z"
    }
   },
   "id": "584a562fc75191e2",
   "execution_count": 139
  },
  {
   "cell_type": "code",
   "outputs": [],
   "source": [
    "def masked_acc(y_true, y_pred):\n",
    "    # Calculate the loss for each item in the batch.\n",
    "    y_pred = tf.argmax(y_pred, axis=-1)\n",
    "    y_pred = tf.cast(y_pred, y_true.dtype)\n",
    "\n",
    "    match = tf.cast(y_true == y_pred, tf.float32)\n",
    "    mask = tf.cast(y_true != 0, tf.float32)\n",
    "\n",
    "    return tf.reduce_sum(match)/tf.reduce_sum(mask)\n"
   ],
   "metadata": {
    "collapsed": false,
    "ExecuteTime": {
     "end_time": "2024-01-21T22:12:40.325447100Z",
     "start_time": "2024-01-21T22:12:40.107771900Z"
    }
   },
   "id": "96cbe08d440a54ee",
   "execution_count": 140
  },
  {
   "cell_type": "code",
   "outputs": [],
   "source": [
    "model.compile(optimizer='adam',\n",
    "              loss=masked_loss,\n",
    "              metrics=[masked_acc, masked_loss])\n"
   ],
   "metadata": {
    "collapsed": false,
    "ExecuteTime": {
     "end_time": "2024-01-21T22:12:40.465420800Z",
     "start_time": "2024-01-21T22:12:40.279452600Z"
    }
   },
   "id": "8a757c213d7e1f1d",
   "execution_count": 141
  },
  {
   "cell_type": "code",
   "outputs": [
    {
     "data": {
      "text/plain": "{'expected_loss': 8.517193, 'expected_acc': 0.0002}"
     },
     "execution_count": 142,
     "metadata": {},
     "output_type": "execute_result"
    }
   ],
   "source": [
    "vocab_size = 1.0 * target_text_processor.vocabulary_size()\n",
    "\n",
    "{\"expected_loss\": tf.math.log(vocab_size).numpy(),\n",
    " \"expected_acc\": 1/vocab_size}\n"
   ],
   "metadata": {
    "collapsed": false,
    "ExecuteTime": {
     "end_time": "2024-01-21T22:12:40.611288200Z",
     "start_time": "2024-01-21T22:12:40.451856200Z"
    }
   },
   "id": "25c391965ca71233",
   "execution_count": 142
  },
  {
   "cell_type": "code",
   "outputs": [
    {
     "name": "stdout",
     "output_type": "stream",
     "text": [
      "20/20 [==============================] - 24s 470ms/step - loss: 8.5259 - masked_acc: 1.1347e-04 - masked_loss: 8.5259\n"
     ]
    },
    {
     "data": {
      "text/plain": "{'loss': 8.525897026062012,\n 'masked_acc': 0.00011347369581926614,\n 'masked_loss': 8.525897026062012}"
     },
     "execution_count": 143,
     "metadata": {},
     "output_type": "execute_result"
    }
   ],
   "source": [
    "model.evaluate(val_ds, steps=20, return_dict=True)\n"
   ],
   "metadata": {
    "collapsed": false,
    "ExecuteTime": {
     "end_time": "2024-01-21T22:13:04.720784600Z",
     "start_time": "2024-01-21T22:12:40.514564700Z"
    }
   },
   "id": "30d89b8ad7befb60",
   "execution_count": 143
  },
  {
   "cell_type": "code",
   "outputs": [
    {
     "name": "stdout",
     "output_type": "stream",
     "text": [
      "Epoch 1/100\n",
      "100/100 [==============================] - 101s 1s/step - loss: 2.9160 - masked_acc: 0.3844 - masked_loss: 2.9160 - val_loss: 5.3005 - val_masked_acc: 0.1846 - val_masked_loss: 5.3005\n",
      "Epoch 2/100\n",
      "100/100 [==============================] - 97s 974ms/step - loss: 2.6816 - masked_acc: 0.4274 - masked_loss: 2.6828 - val_loss: 5.4277 - val_masked_acc: 0.1883 - val_masked_loss: 5.4277\n",
      "Epoch 3/100\n",
      "100/100 [==============================] - 92s 919ms/step - loss: 2.4936 - masked_acc: 0.4625 - masked_loss: 2.4942 - val_loss: 5.6258 - val_masked_acc: 0.1746 - val_masked_loss: 5.6258\n",
      "Epoch 4/100\n",
      "100/100 [==============================] - 86s 862ms/step - loss: 2.3169 - masked_acc: 0.4949 - masked_loss: 2.3178 - val_loss: 5.7811 - val_masked_acc: 0.1775 - val_masked_loss: 5.7811\n",
      "Epoch 5/100\n",
      "100/100 [==============================] - 86s 859ms/step - loss: 2.1754 - masked_acc: 0.5226 - masked_loss: 2.1754 - val_loss: 5.8897 - val_masked_acc: 0.1747 - val_masked_loss: 5.8897\n",
      "Epoch 6/100\n",
      "100/100 [==============================] - 86s 861ms/step - loss: 1.9000 - masked_acc: 0.5863 - masked_loss: 1.9000 - val_loss: 6.0636 - val_masked_acc: 0.1740 - val_masked_loss: 6.0636\n",
      "Epoch 7/100\n",
      "100/100 [==============================] - 83s 829ms/step - loss: 1.7984 - masked_acc: 0.6092 - masked_loss: 1.7988 - val_loss: 6.2228 - val_masked_acc: 0.1741 - val_masked_loss: 6.2228\n",
      "Epoch 8/100\n",
      "100/100 [==============================] - 83s 836ms/step - loss: 1.7049 - masked_acc: 0.6312 - masked_loss: 1.7055 - val_loss: 6.3912 - val_masked_acc: 0.1716 - val_masked_loss: 6.3912\n",
      "Epoch 9/100\n",
      "100/100 [==============================] - 85s 852ms/step - loss: 1.6067 - masked_acc: 0.6545 - masked_loss: 1.6070 - val_loss: 6.5521 - val_masked_acc: 0.1722 - val_masked_loss: 6.5521\n",
      "Epoch 10/100\n",
      "100/100 [==============================] - 84s 842ms/step - loss: 1.5246 - masked_acc: 0.6739 - masked_loss: 1.5249 - val_loss: 6.7577 - val_masked_acc: 0.1676 - val_masked_loss: 6.7577\n",
      "Epoch 11/100\n",
      "100/100 [==============================] - 91s 911ms/step - loss: 1.3592 - masked_acc: 0.7150 - masked_loss: 1.3592 - val_loss: 7.0068 - val_masked_acc: 0.1622 - val_masked_loss: 7.0068\n"
     ]
    }
   ],
   "source": [
    "history = model.fit(\n",
    "    train_ds.repeat(),\n",
    "    epochs=100,\n",
    "    steps_per_epoch = 100,\n",
    "    validation_data=val_ds,\n",
    "    validation_steps = 20,\n",
    "    callbacks=[\n",
    "        tf.keras.callbacks.EarlyStopping(patience=10)])\n"
   ],
   "metadata": {
    "collapsed": false,
    "ExecuteTime": {
     "end_time": "2024-01-21T22:47:56.076498Z",
     "start_time": "2024-01-21T22:31:39.291340500Z"
    }
   },
   "id": "bc0587d3fa197ebc",
   "execution_count": 147
  },
  {
   "cell_type": "code",
   "outputs": [],
   "source": [
    "@Translator.add_method\n",
    "def translate(self,\n",
    "              texts, *,\n",
    "              max_length=50,\n",
    "              temperature=0.0):\n",
    "    # Process the input texts\n",
    "    context = self.encoder.convert_input(texts)\n",
    "    batch_size = tf.shape(texts)[0]\n",
    "\n",
    "    # Setup the loop inputs\n",
    "    tokens = []\n",
    "    attention_weights = []\n",
    "    next_token, done, state = self.decoder.get_initial_state(context)\n",
    "\n",
    "    for _ in range(max_length):\n",
    "        # Generate the next token\n",
    "        next_token, done, state = self.decoder.get_next_token(\n",
    "            context, next_token, done,  state, temperature)\n",
    "\n",
    "        # Collect the generated tokens\n",
    "        tokens.append(next_token)\n",
    "        attention_weights.append(self.decoder.last_attention_weights)\n",
    "\n",
    "        if tf.executing_eagerly() and tf.reduce_all(done):\n",
    "            break\n",
    "\n",
    "    # Stack the lists of tokens and attention weights.\n",
    "    tokens = tf.concat(tokens, axis=-1)   # t*[(batch 1)] -> (batch, t)\n",
    "    self.last_attention_weights = tf.concat(attention_weights, axis=1)  # t*[(batch 1 s)] -> (batch, t s)\n",
    "\n",
    "    result = self.decoder.tokens_to_text(tokens)\n",
    "    return result\n"
   ],
   "metadata": {
    "collapsed": false,
    "ExecuteTime": {
     "end_time": "2024-01-21T22:27:47.552098Z",
     "start_time": "2024-01-21T22:27:47.203098100Z"
    }
   },
   "id": "17ed0ef35287674c",
   "execution_count": 145
  },
  {
   "cell_type": "code",
   "outputs": [
    {
     "data": {
      "text/plain": "'waaqayyo immoo saamueliin dhaqiitii yaa gooftaa ati saba kee oolchitee warra [UNK] fi warra [UNK] qaban hunda caalaa [UNK] '"
     },
     "execution_count": 146,
     "metadata": {},
     "output_type": "execute_result"
    }
   ],
   "source": [
    "\n",
    "result = model.translate(['አነ ቀደስኩ']) # Are you still home\n",
    "result[0].numpy().decode()\n"
   ],
   "metadata": {
    "collapsed": false,
    "ExecuteTime": {
     "end_time": "2024-01-21T22:27:51.776097700Z",
     "start_time": "2024-01-21T22:27:47.346099600Z"
    }
   },
   "id": "d3028fa641229cd6",
   "execution_count": 146
  }
 ],
 "metadata": {
  "kernelspec": {
   "display_name": "Python 3",
   "language": "python",
   "name": "python3"
  },
  "language_info": {
   "codemirror_mode": {
    "name": "ipython",
    "version": 2
   },
   "file_extension": ".py",
   "mimetype": "text/x-python",
   "name": "python",
   "nbconvert_exporter": "python",
   "pygments_lexer": "ipython2",
   "version": "2.7.6"
  }
 },
 "nbformat": 4,
 "nbformat_minor": 5
}
